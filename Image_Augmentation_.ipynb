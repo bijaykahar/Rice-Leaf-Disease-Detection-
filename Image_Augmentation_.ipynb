{
  "nbformat": 4,
  "nbformat_minor": 0,
  "metadata": {
    "colab": {
      "name": "Image Augmentation .ipynb",
      "provenance": [],
      "collapsed_sections": [],
      "mount_file_id": "1mLknYA1rthi3F2puqSPVvUrGb4QUtPKv",
      "authorship_tag": "ABX9TyMv6wehXwgtbNydprQoxxSj",
      "include_colab_link": true
    },
    "kernelspec": {
      "name": "python3",
      "display_name": "Python 3"
    }
  },
  "cells": [
    {
      "cell_type": "markdown",
      "metadata": {
        "id": "view-in-github",
        "colab_type": "text"
      },
      "source": [
        "<a href=\"https://colab.research.google.com/github/bijaykahar/Rice-Leaf-Disease-Detection-/blob/master/Image_Augmentation_.ipynb\" target=\"_parent\"><img src=\"https://colab.research.google.com/assets/colab-badge.svg\" alt=\"Open In Colab\"/></a>"
      ]
    },
    {
      "cell_type": "markdown",
      "metadata": {
        "id": "vnNP7skuW6QO",
        "colab_type": "text"
      },
      "source": [
        "Blog - https://blog.keras.io/building-powerful-image-classification-models-using-very-little-data.html"
      ]
    },
    {
      "cell_type": "code",
      "metadata": {
        "id": "t8PZOYMor6nH",
        "colab_type": "code",
        "colab": {
          "base_uri": "https://localhost:8080/",
          "height": 34
        },
        "outputId": "d2e27b73-0831-4071-f115-c998cd618f52"
      },
      "source": [
        "import tensorflow as tf\n",
        "print(tf.__version__)"
      ],
      "execution_count": 1,
      "outputs": [
        {
          "output_type": "stream",
          "text": [
            "2.3.0\n"
          ],
          "name": "stdout"
        }
      ]
    },
    {
      "cell_type": "code",
      "metadata": {
        "id": "OCjC3IDur8Da",
        "colab_type": "code",
        "colab": {
          "base_uri": "https://localhost:8080/",
          "height": 34
        },
        "outputId": "1e8ad4a8-9851-4f85-d070-59ff7d6fc5ef"
      },
      "source": [
        "from google.colab import drive\n",
        "drive.mount('/gdrive')"
      ],
      "execution_count": null,
      "outputs": [
        {
          "output_type": "stream",
          "text": [
            "Mounted at /gdrive\n"
          ],
          "name": "stdout"
        }
      ]
    },
    {
      "cell_type": "code",
      "metadata": {
        "id": "4Psrhz5QOgsb",
        "colab_type": "code",
        "colab": {}
      },
      "source": [
        "bact_leaf = '/content/drive/My Drive/RiceLeafData/Test/Bacterial leaf blight/'\n",
        "brown_spot = '/content/drive/My Drive/RiceLeafData/Test/Brown spot/'\n",
        "leaf_smut = '/content/drive/My Drive/RiceLeafData/Test/Leaf smut/'\n",
        "path = '/content/drive/My Drive/RiceLeafData/Train/'"
      ],
      "execution_count": 7,
      "outputs": []
    },
    {
      "cell_type": "code",
      "metadata": {
        "id": "_MvCmeeCLTzD",
        "colab_type": "code",
        "colab": {}
      },
      "source": [
        "from keras.preprocessing.image import ImageDataGenerator, array_to_img, img_to_array, load_img\n",
        "\n",
        "datagen = ImageDataGenerator(\n",
        "        rotation_range=40,\n",
        "        width_shift_range=0.2,\n",
        "        height_shift_range=0.2,\n",
        "        shear_range=0.2,\n",
        "        zoom_range=0.2,\n",
        "        horizontal_flip=True,\n",
        "        fill_mode='nearest')\n",
        "\n",
        "for looping in os.listdir(leaf_smut):\n",
        "  img = load_img(leaf_smut + looping)  # this is a PIL image\n",
        "  x = img_to_array(img)  # this is a Numpy array with shape (3, 150, 150)\n",
        "  x = x.reshape((1,) + x.shape)  # this is a Numpy array with shape (1, 3, 150, 150)\n",
        "\n",
        "  # the .flow() command below generates batches of randomly transformed images\n",
        "  # and saves the results to the `preview/` directory\n",
        "  i = 0\n",
        "  for batch in datagen.flow(x, batch_size=1,save_to_dir='/content/drive/My Drive/RiceLeafData/Train/Leaf Smut',\n",
        "                            save_prefix='Ls', save_format='jpeg'):\n",
        "    i += 1\n",
        "    if i > 21:\n",
        "      break  # otherwise the generator would loop indefinitely"
      ],
      "execution_count": 16,
      "outputs": []
    },
    {
      "cell_type": "code",
      "metadata": {
        "id": "Gm2zXY8aO1wg",
        "colab_type": "code",
        "colab": {
          "base_uri": "https://localhost:8080/",
          "height": 34
        },
        "outputId": "fe578bf6-b128-4286-8442-5e29547d46fb"
      },
      "source": [
        "import os\n",
        "print(len(os.listdir('/content/drive/My Drive/RiceLeafData/Train/Leaf Smut')))"
      ],
      "execution_count": 17,
      "outputs": [
        {
          "output_type": "stream",
          "text": [
            "840\n"
          ],
          "name": "stdout"
        }
      ]
    },
    {
      "cell_type": "code",
      "metadata": {
        "id": "hX1KhC8IXbRN",
        "colab_type": "code",
        "colab": {}
      },
      "source": [
        ""
      ],
      "execution_count": null,
      "outputs": []
    }
  ]
}
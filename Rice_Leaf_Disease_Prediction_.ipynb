{
  "nbformat": 4,
  "nbformat_minor": 0,
  "metadata": {
    "colab": {
      "name": "Rice Leaf Disease Prediction .ipynb",
      "provenance": [],
      "mount_file_id": "1HkqWbKeRYjsWQphjXXbNPayaII5SWNUJ",
      "authorship_tag": "ABX9TyOHyF7/bjMIeCd6YM/SfovG",
      "include_colab_link": true
    },
    "kernelspec": {
      "name": "python3",
      "display_name": "Python 3"
    }
  },
  "cells": [
    {
      "cell_type": "markdown",
      "metadata": {
        "id": "view-in-github",
        "colab_type": "text"
      },
      "source": [
        "<a href=\"https://colab.research.google.com/github/bijaykahar/Rice-Leaf-Disease-Detection-/blob/master/Rice_Leaf_Disease_Prediction_.ipynb\" target=\"_parent\"><img src=\"https://colab.research.google.com/assets/colab-badge.svg\" alt=\"Open In Colab\"/></a>"
      ]
    },
    {
      "cell_type": "code",
      "metadata": {
        "id": "QkpEie2wTZwa",
        "colab_type": "code",
        "colab": {
          "base_uri": "https://localhost:8080/",
          "height": 122
        },
        "outputId": "cba897c4-7d1b-4222-ff7e-62329df87125"
      },
      "source": [
        "from google.colab import drive\n",
        "drive.mount('/gdrive')"
      ],
      "execution_count": null,
      "outputs": [
        {
          "output_type": "stream",
          "text": [
            "Go to this URL in a browser: https://accounts.google.com/o/oauth2/auth?client_id=947318989803-6bn6qk8qdgf4n4g3pfee6491hc0brc4i.apps.googleusercontent.com&redirect_uri=urn%3aietf%3awg%3aoauth%3a2.0%3aoob&scope=email%20https%3a%2f%2fwww.googleapis.com%2fauth%2fdocs.test%20https%3a%2f%2fwww.googleapis.com%2fauth%2fdrive%20https%3a%2f%2fwww.googleapis.com%2fauth%2fdrive.photos.readonly%20https%3a%2f%2fwww.googleapis.com%2fauth%2fpeopleapi.readonly&response_type=code\n",
            "\n",
            "Enter your authorization code:\n",
            "4/4AH-5oZLQas7su5Xfi3ANl5Sx9FhNfNjHox5YWPjKtRTHxPJiPD1Ocg\n",
            "Mounted at /gdrive\n"
          ],
          "name": "stdout"
        }
      ]
    },
    {
      "cell_type": "code",
      "metadata": {
        "id": "lF8GQi-g-ANC",
        "colab_type": "code",
        "colab": {}
      },
      "source": [
        "import zipfile\n",
        "path='/content/drive/My Drive/RiceLeafData/Bacterial leaf blight-20200814T055237Z-001.zip'\n",
        "zip_ref = zipfile.ZipFile(path, 'r')\n",
        "zip_ref.extractall('/content/drive/My Drive/RiceLeafData/Train')\n",
        "zip_ref.close()\n"
      ],
      "execution_count": null,
      "outputs": []
    },
    {
      "cell_type": "code",
      "metadata": {
        "id": "O1W5hnqiTUvy",
        "colab_type": "code",
        "colab": {}
      },
      "source": [
        "path='/content/drive/My Drive/RiceLeafData/Brown spot-20200814T055208Z-001.zip'\n",
        "zip_ref = zipfile.ZipFile(path, 'r')\n",
        "zip_ref.extractall('/content/drive/My Drive/RiceLeafData/Train')\n",
        "zip_ref.close()"
      ],
      "execution_count": null,
      "outputs": []
    },
    {
      "cell_type": "code",
      "metadata": {
        "id": "ll1wXMWg-o2D",
        "colab_type": "code",
        "colab": {}
      },
      "source": [
        "path='/content/drive/My Drive/RiceLeafData/Leaf smut-20200814T055530Z-001.zip'\n",
        "zip_ref = zipfile.ZipFile(path, 'r')\n",
        "zip_ref.extractall('/content/drive/My Drive/RiceLeafData/Train')\n",
        "zip_ref.close()"
      ],
      "execution_count": null,
      "outputs": []
    },
    {
      "cell_type": "code",
      "metadata": {
        "id": "OSBdCVyMBeMo",
        "colab_type": "code",
        "colab": {}
      },
      "source": [
        "bact_leaf = '/content/drive/My Drive/RiceLeafData/Train/Bacterial leaf blight'\n",
        "brown_spot = '/content/drive/My Drive/RiceLeafData/Train/Brown spot'\n",
        "leaf_smut = '/content/drive/My Drive/RiceLeafData/Train/Leaf smut'\n",
        "path = '/content/drive/My Drive/RiceLeafData/Train'"
      ],
      "execution_count": 2,
      "outputs": []
    },
    {
      "cell_type": "code",
      "metadata": {
        "id": "EXKmLghT_KT1",
        "colab_type": "code",
        "colab": {
          "base_uri": "https://localhost:8080/",
          "height": 68
        },
        "outputId": "cb880e8d-6373-4089-8947-8d7e0bab485f"
      },
      "source": [
        "import os\n",
        "print('total training Brown Spot images:', len(os.listdir(brown_spot)))\n",
        "print('total training Bacteria Leaf images:', len(os.listdir(bact_leaf)))\n",
        "print('total training Leaf Smut images:', len(os.listdir(leaf_smut)))"
      ],
      "execution_count": 3,
      "outputs": [
        {
          "output_type": "stream",
          "text": [
            "total training Brown Spot images: 40\n",
            "total training Bacteria Leaf images: 40\n",
            "total training Leaf Smut images: 39\n"
          ],
          "name": "stdout"
        }
      ]
    },
    {
      "cell_type": "code",
      "metadata": {
        "id": "pfnbaTYWMerZ",
        "colab_type": "code",
        "colab": {
          "base_uri": "https://localhost:8080/",
          "height": 68
        },
        "outputId": "e3db1794-794c-4144-d5c3-2d7cdcc5b38c"
      },
      "source": [
        "brown_spot = os.listdir(brown_spot)\n",
        "print(brown_spot[:3])\n",
        "\n",
        "bact_leaf = os.listdir(bact_leaf)\n",
        "print(bact_leaf[:3])\n",
        "\n",
        "leaf_smut = os.listdir(leaf_smut)\n",
        "print(leaf_smut[:3])"
      ],
      "execution_count": 4,
      "outputs": [
        {
          "output_type": "stream",
          "text": [
            "['DSC_0394.jpg', 'DSC_0324.JPG', 'DSC_0391.jpg']\n",
            "['DSC_0406.JPG', 'DSC_0405.JPG', 'DSC_0404.JPG']\n",
            "['DSC_0313.JPG', 'DSC_0510.jpg', 'DSC_0503.jpg']\n"
          ],
          "name": "stdout"
        }
      ]
    },
    {
      "cell_type": "code",
      "metadata": {
        "id": "KPUKpUtkJu2Q",
        "colab_type": "code",
        "colab": {
          "base_uri": "https://localhost:8080/",
          "height": 51
        },
        "outputId": "a996df2d-634a-439b-a697-5ba4e524b5e8"
      },
      "source": [
        "import tensorflow as tf\n",
        "Data_x=tf.keras.preprocessing.image_dataset_from_directory(\n",
        "    path, labels='inferred', label_mode='int', class_names=None,\n",
        "    color_mode='rgb', batch_size=32, image_size=(256, 256), shuffle=True, seed=100,\n",
        "    validation_split=0.1, subset='training', interpolation='bilinear', follow_links=False\n",
        ")"
      ],
      "execution_count": 5,
      "outputs": [
        {
          "output_type": "stream",
          "text": [
            "Found 119 files belonging to 3 classes.\n",
            "Using 108 files for training.\n"
          ],
          "name": "stdout"
        }
      ]
    },
    {
      "cell_type": "code",
      "metadata": {
        "id": "-IiBLH4JwpJC",
        "colab_type": "code",
        "colab": {
          "base_uri": "https://localhost:8080/",
          "height": 149
        },
        "outputId": "f6ccca81-4e4f-47d7-f087-d47f3229d6dd"
      },
      "source": [
        "\n",
        "%matplotlib inline\n",
        "\n",
        "import matplotlib.pyplot as plt\n",
        "import matplotlib.image as mpimg\n",
        "\n",
        "img = mpimg.imread('/content/drive/My Drive/RiceLeafData/Bacterial leaf blight/DSC_0365.JPG')\n",
        "plt.imshow(img)\n",
        "plt.axis('on')\n",
        "plt.show()"
      ],
      "execution_count": 6,
      "outputs": [
        {
          "output_type": "display_data",
          "data": {
            "image/png": "[encoded data removed]",
            "text/plain": [
              "<Figure size 432x288 with 1 Axes>"
            ]
          },
          "metadata": {
            "tags": [],
            "needs_background": "light"
          }
        }
      ]
    },
    {
      "cell_type": "code",
      "metadata": {
        "id": "bEZMRqVhMTTt",
        "colab_type": "code",
        "colab": {
          "base_uri": "https://localhost:8080/",
          "height": 34
        },
        "outputId": "65ec85c5-9184-42b0-c346-b39d4afbf2d5"
      },
      "source": [
        "Data_x.class_names"
      ],
      "execution_count": 7,
      "outputs": [
        {
          "output_type": "execute_result",
          "data": {
            "text/plain": [
              "['Bacterial leaf blight', 'Brown spot', 'Leaf smut']"
            ]
          },
          "metadata": {
            "tags": []
          },
          "execution_count": 7
        }
      ]
    },
    {
      "cell_type": "code",
      "metadata": {
        "id": "TxF2uOs8fQq5",
        "colab_type": "code",
        "colab": {}
      },
      "source": [
        "pip install -q pyyaml h5py  # Required to save models in HDF5 format"
      ],
      "execution_count": 8,
      "outputs": []
    },
    {
      "cell_type": "code",
      "metadata": {
        "id": "g3QY9vDwPRUM",
        "colab_type": "code",
        "colab": {}
      },
      "source": [
        "from keras.preprocessing.image import ImageDataGenerator\n",
        "training_datagen = ImageDataGenerator(\n",
        "      rescale = 1./255,\n",
        "\t    rotation_range=40,\n",
        "      width_shift_range=0.2,\n",
        "      height_shift_range=0.2,\n",
        "      shear_range=0.2,\n",
        "      zoom_range=0.2,\n",
        "      horizontal_flip=True,\n",
        "      fill_mode='nearest')\n",
        "\n",
        "validation_datagen = ImageDataGenerator(rescale = 1./255)\n",
        "\n",
        "\n",
        "train_generator = training_datagen.flow_from_directory(\n",
        "\tpath,\n",
        "\ttarget_size=(150,150),\n",
        "\tclass_mode='categorical',\n",
        "  batch_size=126,subset=\"training\"\n",
        ")\n",
        "\n",
        "validation_generator = validation_datagen.flow_from_directory(\n",
        "\tpath,\n",
        "\ttarget_size=(150,150),\n",
        "\tclass_mode='categorical',\n",
        "  batch_size=126,subset=\"validation\"\n",
        ")\n",
        "\n",
        "model = tf.keras.models.Sequential([\n",
        "    # Note the input shape is the desired size of the image 150x150 with 3 bytes color\n",
        "    # This is the first convolution\n",
        "    tf.keras.layers.Conv2D(64, (3,3), activation='relu', input_shape=(150, 150, 3)),\n",
        "    tf.keras.layers.MaxPooling2D(2, 2),\n",
        "    # The second convolution\n",
        "    tf.keras.layers.Conv2D(64, (3,3), activation='relu'),\n",
        "    tf.keras.layers.MaxPooling2D(2,2),\n",
        "    # The third convolution\n",
        "    tf.keras.layers.Conv2D(128, (3,3), activation='relu'),\n",
        "    tf.keras.layers.MaxPooling2D(2,2),\n",
        "    # The fourth convolution\n",
        "    tf.keras.layers.Conv2D(128, (3,3), activation='relu'),\n",
        "    tf.keras.layers.MaxPooling2D(2,2),\n",
        "    # Flatten the results to feed into a DNN\n",
        "    tf.keras.layers.Flatten(),\n",
        "    tf.keras.layers.Dropout(0.5),\n",
        "    # 512 neuron hidden layer\n",
        "    tf.keras.layers.Dense(512, activation='relu'),\n",
        "    tf.keras.layers.Dense(3, activation='softmax')\n",
        "])\n",
        "\n",
        "model.summary()\n",
        "\n",
        "model.compile(loss = 'categorical_crossentropy', optimizer='rmsprop', metrics=['accuracy'])\n",
        "\n",
        "history = model.fit(train_generator, epochs=200, steps_per_epoch=1, validation_data = validation_generator, verbose = 2, validation_steps=1)\n",
        "\n",
        "model.save(\"model_rice_leaf.h5\")"
      ],
      "execution_count": null,
      "outputs": []
    },
    {
      "cell_type": "code",
      "metadata": {
        "id": "WiaMtdA0qIDj",
        "colab_type": "code",
        "colab": {}
      },
      "source": [
        ""
      ],
      "execution_count": null,
      "outputs": []
    }
  ]
}
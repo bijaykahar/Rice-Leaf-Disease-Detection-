{
  "nbformat": 4,
  "nbformat_minor": 0,
  "metadata": {
    "colab": {
      "name": "VGG_Rice Leaf Data + Transfer Learning .ipynb",
      "provenance": [],
      "collapsed_sections": [],
      "mount_file_id": "1eftR7quTKF1VrRfTLryZNlEYeJYTSbFw",
      "authorship_tag": "ABX9TyP8/HDqFZyP/Q5wR1p9MeFq",
      "include_colab_link": true
    },
    "kernelspec": {
      "name": "python3",
      "display_name": "Python 3"
    },
    "accelerator": "GPU"
  },
  "cells": [
    {
      "cell_type": "markdown",
      "metadata": {
        "id": "view-in-github",
        "colab_type": "text"
      },
      "source": [
        "<a href=\"https://colab.research.google.com/github/bijaykahar/Rice-Leaf-Disease-Detection-/blob/master/VGG_Rice_Leaf_Data_%2B_Transfer_Learning_.ipynb\" target=\"_parent\"><img src=\"https://colab.research.google.com/assets/colab-badge.svg\" alt=\"Open In Colab\"/></a>"
      ]
    },
    {
      "cell_type": "code",
      "metadata": {
        "id": "YArNQjn_UvkI",
        "colab_type": "code",
        "colab": {
          "base_uri": "https://localhost:8080/",
          "height": 34
        },
        "outputId": "c724661b-f72f-497b-d41c-f2aa41289ca5"
      },
      "source": [
        "from google.colab import drive\n",
        "drive.mount('/gdrive')"
      ],
      "execution_count": 1,
      "outputs": [
        {
          "output_type": "stream",
          "text": [
            "Mounted at /gdrive\n"
          ],
          "name": "stdout"
        }
      ]
    },
    {
      "cell_type": "code",
      "metadata": {
        "id": "OGrXL66GVf_2",
        "colab_type": "code",
        "colab": {
          "base_uri": "https://localhost:8080/",
          "height": 34
        },
        "outputId": "b582965a-8c23-4c83-a705-94daa0eb9add"
      },
      "source": [
        "import os \n",
        "#after Image Augmentation the 40 images becomes 851 images \n",
        "print(len(os.listdir('/content/drive/My Drive/RiceLeafData/Train/Bacterial Leaf Blub')))"
      ],
      "execution_count": 2,
      "outputs": [
        {
          "output_type": "stream",
          "text": [
            "811\n"
          ],
          "name": "stdout"
        }
      ]
    },
    {
      "cell_type": "code",
      "metadata": {
        "id": "hGlAC2LDVv7x",
        "colab_type": "code",
        "colab": {}
      },
      "source": [
        "from tensorflow.keras.layers import Input, Lambda, Dense, Flatten\n",
        "from tensorflow.keras.models import Model\n",
        "from tensorflow.keras.applications.vgg16 import VGG16\n",
        "from tensorflow.keras.applications.vgg19 import VGG19\n",
        "from tensorflow.keras.preprocessing import image\n",
        "from tensorflow.keras.preprocessing.image import ImageDataGenerator,load_img\n",
        "from tensorflow.keras.models import Sequential\n",
        "import numpy as np\n",
        "from glob import glob\n",
        "import matplotlib.pyplot as plt"
      ],
      "execution_count": 3,
      "outputs": []
    },
    {
      "cell_type": "code",
      "metadata": {
        "id": "a2LXljm2WyFZ",
        "colab_type": "code",
        "colab": {}
      },
      "source": [
        "IMAGE_SIZE = [224, 224]\n",
        "\n",
        "train_path = '/content/drive/My Drive/RiceLeafData/Train'\n",
        "valid_path = '/content/drive/My Drive/RiceLeafData/Test'"
      ],
      "execution_count": 4,
      "outputs": []
    },
    {
      "cell_type": "code",
      "metadata": {
        "id": "QIKAJ6WMXVVW",
        "colab_type": "code",
        "colab": {
          "base_uri": "https://localhost:8080/",
          "height": 71
        },
        "outputId": "cc2def2c-4967-40fa-f6c5-0fa9a8b9cf0a"
      },
      "source": [
        "vgg16 = VGG16(input_shape=IMAGE_SIZE + [3], weights='imagenet', include_top=False)"
      ],
      "execution_count": 5,
      "outputs": [
        {
          "output_type": "stream",
          "text": [
            "Downloading data from https://storage.googleapis.com/tensorflow/keras-applications/vgg16/vgg16_weights_tf_dim_ordering_tf_kernels_notop.h5\n",
            "58892288/58889256 [==============================] - 1s 0us/step\n"
          ],
          "name": "stdout"
        }
      ]
    },
    {
      "cell_type": "code",
      "metadata": {
        "id": "U3QCXF3pXX2o",
        "colab_type": "code",
        "colab": {}
      },
      "source": [
        "# don't train existing weights\n",
        "for layer in vgg16.layers:\n",
        "    layer.trainable = False"
      ],
      "execution_count": 6,
      "outputs": []
    },
    {
      "cell_type": "code",
      "metadata": {
        "id": "0GphmJgOXiSU",
        "colab_type": "code",
        "colab": {}
      },
      "source": [
        "# useful for getting number of output classes\n",
        "folders = glob('/content/drive/My Drive/RiceLeafData/Train/*')"
      ],
      "execution_count": 7,
      "outputs": []
    },
    {
      "cell_type": "code",
      "metadata": {
        "id": "UMwLJ865XrtO",
        "colab_type": "code",
        "colab": {
          "base_uri": "https://localhost:8080/",
          "height": 68
        },
        "outputId": "ff11595c-aa83-4472-b8db-6abec7733f16"
      },
      "source": [
        "folders"
      ],
      "execution_count": 8,
      "outputs": [
        {
          "output_type": "execute_result",
          "data": {
            "text/plain": [
              "['/content/drive/My Drive/RiceLeafData/Train/Bacterial Leaf Blub',\n",
              " '/content/drive/My Drive/RiceLeafData/Train/Leaf Smut',\n",
              " '/content/drive/My Drive/RiceLeafData/Train/Brown Spot']"
            ]
          },
          "metadata": {
            "tags": []
          },
          "execution_count": 8
        }
      ]
    },
    {
      "cell_type": "code",
      "metadata": {
        "id": "N_O-Nrf_X0q1",
        "colab_type": "code",
        "colab": {
          "base_uri": "https://localhost:8080/",
          "height": 34
        },
        "outputId": "f6f49bb0-f50d-44b6-f711-5f9e6c32234b"
      },
      "source": [
        "len(folders)"
      ],
      "execution_count": 9,
      "outputs": [
        {
          "output_type": "execute_result",
          "data": {
            "text/plain": [
              "3"
            ]
          },
          "metadata": {
            "tags": []
          },
          "execution_count": 9
        }
      ]
    },
    {
      "cell_type": "code",
      "metadata": {
        "id": "270trI-dXs5y",
        "colab_type": "code",
        "colab": {}
      },
      "source": [
        "# our layers - you can add more if you want\n",
        "x = Flatten()(vgg16.output)"
      ],
      "execution_count": 10,
      "outputs": []
    },
    {
      "cell_type": "code",
      "metadata": {
        "id": "TECa9N_eXxM4",
        "colab_type": "code",
        "colab": {}
      },
      "source": [
        "prediction = Dense(len(folders), activation='softmax')(x)\n",
        "\n",
        "# create a model object\n",
        "model = Model(inputs=vgg16.input, outputs=prediction)"
      ],
      "execution_count": 11,
      "outputs": []
    },
    {
      "cell_type": "code",
      "metadata": {
        "id": "O5nxl2StX9Ep",
        "colab_type": "code",
        "colab": {
          "base_uri": "https://localhost:8080/",
          "height": 867
        },
        "outputId": "a60f710e-97ab-45ba-f97b-22518e5e94b2"
      },
      "source": [
        "# view the structure of the model\n",
        "model.summary()"
      ],
      "execution_count": 12,
      "outputs": [
        {
          "output_type": "stream",
          "text": [
            "Model: \"functional_1\"\n",
            "_________________________________________________________________\n",
            "Layer (type)                 Output Shape              Param #   \n",
            "=================================================================\n",
            "input_1 (InputLayer)         [(None, 224, 224, 3)]     0         \n",
            "_________________________________________________________________\n",
            "block1_conv1 (Conv2D)        (None, 224, 224, 64)      1792      \n",
            "_________________________________________________________________\n",
            "block1_conv2 (Conv2D)        (None, 224, 224, 64)      36928     \n",
            "_________________________________________________________________\n",
            "block1_pool (MaxPooling2D)   (None, 112, 112, 64)      0         \n",
            "_________________________________________________________________\n",
            "block2_conv1 (Conv2D)        (None, 112, 112, 128)     73856     \n",
            "_________________________________________________________________\n",
            "block2_conv2 (Conv2D)        (None, 112, 112, 128)     147584    \n",
            "_________________________________________________________________\n",
            "block2_pool (MaxPooling2D)   (None, 56, 56, 128)       0         \n",
            "_________________________________________________________________\n",
            "block3_conv1 (Conv2D)        (None, 56, 56, 256)       295168    \n",
            "_________________________________________________________________\n",
            "block3_conv2 (Conv2D)        (None, 56, 56, 256)       590080    \n",
            "_________________________________________________________________\n",
            "block3_conv3 (Conv2D)        (None, 56, 56, 256)       590080    \n",
            "_________________________________________________________________\n",
            "block3_pool (MaxPooling2D)   (None, 28, 28, 256)       0         \n",
            "_________________________________________________________________\n",
            "block4_conv1 (Conv2D)        (None, 28, 28, 512)       1180160   \n",
            "_________________________________________________________________\n",
            "block4_conv2 (Conv2D)        (None, 28, 28, 512)       2359808   \n",
            "_________________________________________________________________\n",
            "block4_conv3 (Conv2D)        (None, 28, 28, 512)       2359808   \n",
            "_________________________________________________________________\n",
            "block4_pool (MaxPooling2D)   (None, 14, 14, 512)       0         \n",
            "_________________________________________________________________\n",
            "block5_conv1 (Conv2D)        (None, 14, 14, 512)       2359808   \n",
            "_________________________________________________________________\n",
            "block5_conv2 (Conv2D)        (None, 14, 14, 512)       2359808   \n",
            "_________________________________________________________________\n",
            "block5_conv3 (Conv2D)        (None, 14, 14, 512)       2359808   \n",
            "_________________________________________________________________\n",
            "block5_pool (MaxPooling2D)   (None, 7, 7, 512)         0         \n",
            "_________________________________________________________________\n",
            "flatten (Flatten)            (None, 25088)             0         \n",
            "_________________________________________________________________\n",
            "dense (Dense)                (None, 3)                 75267     \n",
            "=================================================================\n",
            "Total params: 14,789,955\n",
            "Trainable params: 75,267\n",
            "Non-trainable params: 14,714,688\n",
            "_________________________________________________________________\n"
          ],
          "name": "stdout"
        }
      ]
    },
    {
      "cell_type": "code",
      "metadata": {
        "id": "CkaFam0DYCqj",
        "colab_type": "code",
        "colab": {}
      },
      "source": [
        "# tell the model what cost and optimization method to use\n",
        "model.compile(\n",
        "  loss='categorical_crossentropy',\n",
        "  optimizer='adam',\n",
        "  metrics=['accuracy']\n",
        ")"
      ],
      "execution_count": 13,
      "outputs": []
    },
    {
      "cell_type": "code",
      "metadata": {
        "id": "Z972US-hYGox",
        "colab_type": "code",
        "colab": {}
      },
      "source": [
        "# Use the Image Data Generator to import the images from the dataset\n",
        "from tensorflow.keras.preprocessing.image import ImageDataGenerator\n",
        "\n",
        "train_datagen = ImageDataGenerator(rescale = 1./255,\n",
        "                                   shear_range = 0.2,\n",
        "                                   zoom_range = 0.2,\n",
        "                                   horizontal_flip = True)\n",
        "\n",
        "test_datagen = ImageDataGenerator(rescale = 1./255)"
      ],
      "execution_count": 14,
      "outputs": []
    },
    {
      "cell_type": "code",
      "metadata": {
        "id": "vWr51LSaYIFZ",
        "colab_type": "code",
        "colab": {
          "base_uri": "https://localhost:8080/",
          "height": 34
        },
        "outputId": "d5f43cf4-a608-4b98-dd42-e522468272b3"
      },
      "source": [
        "# Make sure you provide the same target size as initialied for the image size\n",
        "training_set = train_datagen.flow_from_directory(train_path,\n",
        "                                                 target_size = (224, 224),\n",
        "                                                 batch_size = 32,\n",
        "                                                 class_mode = 'categorical')"
      ],
      "execution_count": 15,
      "outputs": [
        {
          "output_type": "stream",
          "text": [
            "Found 2455 images belonging to 3 classes.\n"
          ],
          "name": "stdout"
        }
      ]
    },
    {
      "cell_type": "code",
      "metadata": {
        "id": "HsBbIWnAYWeY",
        "colab_type": "code",
        "colab": {
          "base_uri": "https://localhost:8080/",
          "height": 34
        },
        "outputId": "02498635-aefd-4cc9-bb7e-c9f379280d56"
      },
      "source": [
        "\n",
        "test_set = test_datagen.flow_from_directory(valid_path,\n",
        "                                            target_size = (224, 224),\n",
        "                                            batch_size = 32,\n",
        "                                            class_mode = 'categorical')"
      ],
      "execution_count": 16,
      "outputs": [
        {
          "output_type": "stream",
          "text": [
            "Found 119 images belonging to 3 classes.\n"
          ],
          "name": "stdout"
        }
      ]
    },
    {
      "cell_type": "code",
      "metadata": {
        "id": "y1yF55_DYkrI",
        "colab_type": "code",
        "colab": {
          "base_uri": "https://localhost:8080/",
          "height": 768
        },
        "outputId": "43868589-1803-45e9-8808-2805f7f9916f"
      },
      "source": [
        "# fit the model\n",
        "# Run the cell. It will take some time to execute\n",
        "r = model.fit_generator(\n",
        "  training_set,\n",
        "  validation_data=test_set,\n",
        "  epochs=20,\n",
        "  steps_per_epoch=len(training_set),\n",
        "  validation_steps=len(test_set)\n",
        ")"
      ],
      "execution_count": 17,
      "outputs": [
        {
          "output_type": "stream",
          "text": [
            "WARNING:tensorflow:From <ipython-input-17-2d02736eff38>:8: Model.fit_generator (from tensorflow.python.keras.engine.training) is deprecated and will be removed in a future version.\n",
            "Instructions for updating:\n",
            "Please use Model.fit, which supports generators.\n",
            "Epoch 1/20\n",
            "77/77 [==============================] - 2074s 27s/step - loss: 0.7549 - accuracy: 0.6794 - val_loss: 0.2910 - val_accuracy: 0.9160\n",
            "Epoch 2/20\n",
            "77/77 [==============================] - 98s 1s/step - loss: 0.3656 - accuracy: 0.8717 - val_loss: 0.2616 - val_accuracy: 0.8992\n",
            "Epoch 3/20\n",
            "77/77 [==============================] - 98s 1s/step - loss: 0.2692 - accuracy: 0.9039 - val_loss: 0.1782 - val_accuracy: 0.9328\n",
            "Epoch 4/20\n",
            "77/77 [==============================] - 98s 1s/step - loss: 0.2061 - accuracy: 0.9385 - val_loss: 0.2088 - val_accuracy: 0.9160\n",
            "Epoch 5/20\n",
            "77/77 [==============================] - 98s 1s/step - loss: 0.2031 - accuracy: 0.9413 - val_loss: 0.1542 - val_accuracy: 0.9412\n",
            "Epoch 6/20\n",
            "77/77 [==============================] - 98s 1s/step - loss: 0.1704 - accuracy: 0.9491 - val_loss: 0.2013 - val_accuracy: 0.9160\n",
            "Epoch 7/20\n",
            "77/77 [==============================] - 98s 1s/step - loss: 0.1555 - accuracy: 0.9507 - val_loss: 0.1473 - val_accuracy: 0.9328\n",
            "Epoch 8/20\n",
            "77/77 [==============================] - 97s 1s/step - loss: 0.1297 - accuracy: 0.9609 - val_loss: 0.1519 - val_accuracy: 0.9328\n",
            "Epoch 9/20\n",
            "77/77 [==============================] - 97s 1s/step - loss: 0.1122 - accuracy: 0.9707 - val_loss: 0.1308 - val_accuracy: 0.9412\n",
            "Epoch 10/20\n",
            "77/77 [==============================] - 97s 1s/step - loss: 0.1102 - accuracy: 0.9658 - val_loss: 0.0843 - val_accuracy: 0.9664\n",
            "Epoch 11/20\n",
            "77/77 [==============================] - 97s 1s/step - loss: 0.0979 - accuracy: 0.9752 - val_loss: 0.1419 - val_accuracy: 0.9496\n",
            "Epoch 12/20\n",
            "77/77 [==============================] - 97s 1s/step - loss: 0.0877 - accuracy: 0.9747 - val_loss: 0.0991 - val_accuracy: 0.9496\n",
            "Epoch 13/20\n",
            "77/77 [==============================] - 97s 1s/step - loss: 0.0885 - accuracy: 0.9756 - val_loss: 0.1077 - val_accuracy: 0.9496\n",
            "Epoch 14/20\n",
            "77/77 [==============================] - 97s 1s/step - loss: 0.0812 - accuracy: 0.9784 - val_loss: 0.1265 - val_accuracy: 0.9496\n",
            "Epoch 15/20\n",
            "77/77 [==============================] - 97s 1s/step - loss: 0.0953 - accuracy: 0.9666 - val_loss: 0.1552 - val_accuracy: 0.9328\n",
            "Epoch 16/20\n",
            "77/77 [==============================] - 96s 1s/step - loss: 0.0683 - accuracy: 0.9821 - val_loss: 0.1763 - val_accuracy: 0.9412\n",
            "Epoch 17/20\n",
            "77/77 [==============================] - 97s 1s/step - loss: 0.0654 - accuracy: 0.9788 - val_loss: 0.0887 - val_accuracy: 0.9580\n",
            "Epoch 18/20\n",
            "77/77 [==============================] - 97s 1s/step - loss: 0.0783 - accuracy: 0.9752 - val_loss: 0.1406 - val_accuracy: 0.9580\n",
            "Epoch 19/20\n",
            "77/77 [==============================] - 97s 1s/step - loss: 0.0645 - accuracy: 0.9813 - val_loss: 0.1166 - val_accuracy: 0.9580\n",
            "Epoch 20/20\n",
            "77/77 [==============================] - 97s 1s/step - loss: 0.0726 - accuracy: 0.9764 - val_loss: 0.1208 - val_accuracy: 0.9580\n"
          ],
          "name": "stdout"
        }
      ]
    },
    {
      "cell_type": "code",
      "metadata": {
        "id": "6PR9uSIWZ7no",
        "colab_type": "code",
        "colab": {
          "base_uri": "https://localhost:8080/",
          "height": 530
        },
        "outputId": "942f5455-c39f-4dd5-fef0-b23b4cb9f75d"
      },
      "source": [
        "# plot the loss\n",
        "plt.plot(r.history['loss'], label='train loss')\n",
        "plt.plot(r.history['val_loss'], label='val loss')\n",
        "plt.legend()\n",
        "plt.show()\n",
        "plt.savefig('LossVal_loss')\n",
        "\n",
        "# plot the accuracy\n",
        "plt.plot(r.history['accuracy'], label='train acc')\n",
        "plt.plot(r.history['val_accuracy'], label='val acc')\n",
        "plt.legend()\n",
        "plt.show()\n",
        "plt.savefig('AccVal_acc')"
      ],
      "execution_count": 18,
      "outputs": [
        {
          "output_type": "display_data",
          "data": {
            "image/png": "[encoded data removed]",
            "text/plain": [
              "<Figure size 432x288 with 1 Axes>"
            ]
          },
          "metadata": {
            "tags": [],
            "needs_background": "light"
          }
        },
        {
          "output_type": "display_data",
          "data": {
            "image/png": "[encoded data removed]",
            "text/plain": [
              "<Figure size 432x288 with 1 Axes>"
            ]
          },
          "metadata": {
            "tags": [],
            "needs_background": "light"
          }
        },
        {
          "output_type": "display_data",
          "data": {
            "text/plain": [
              "<Figure size 432x288 with 0 Axes>"
            ]
          },
          "metadata": {
            "tags": []
          }
        }
      ]
    },
    {
      "cell_type": "code",
      "metadata": {
        "id": "6XLZVX_Iaewn",
        "colab_type": "code",
        "colab": {}
      },
      "source": [
        "# save it as a h5 file\n",
        "\n",
        "from tensorflow.keras.models import load_model\n",
        "model.save('model_vgg16_rice_leaf.h5')"
      ],
      "execution_count": 19,
      "outputs": []
    },
    {
      "cell_type": "code",
      "metadata": {
        "id": "cn60IsWNrQ2O",
        "colab_type": "code",
        "colab": {}
      },
      "source": [
        "y_pred = model.predict(test_set)"
      ],
      "execution_count": 25,
      "outputs": []
    },
    {
      "cell_type": "code",
      "metadata": {
        "id": "mCu71RB4rRfJ",
        "colab_type": "code",
        "colab": {
          "base_uri": "https://localhost:8080/",
          "height": 561
        },
        "outputId": "11f7b0e1-4cd6-49e3-a316-02f74ce1342e"
      },
      "source": [
        "y_pred"
      ],
      "execution_count": 22,
      "outputs": [
        {
          "output_type": "execute_result",
          "data": {
            "text/plain": [
              "array([[7.3176354e-01, 3.9324291e-02, 2.2891214e-01],\n",
              "       [6.8812224e-04, 9.9891114e-01, 4.0074167e-04],\n",
              "       [1.9083628e-09, 1.4364932e-06, 9.9999857e-01],\n",
              "       [9.6718621e-01, 3.1501538e-04, 3.2498863e-02],\n",
              "       [1.7195727e-07, 9.9991167e-01, 8.8153727e-05],\n",
              "       [9.9346280e-01, 6.4956639e-03, 4.1555515e-05],\n",
              "       [9.7036746e-06, 6.9071520e-03, 9.9308312e-01],\n",
              "       [1.9101240e-03, 9.9806029e-01, 2.9652947e-05],\n",
              "       [3.9908759e-06, 2.8241501e-04, 9.9971360e-01],\n",
              "       [1.0935843e-04, 9.9943405e-01, 4.5660144e-04],\n",
              "       [6.6883907e-09, 9.9912554e-01, 8.7452854e-04],\n",
              "       [9.4330198e-01, 5.5334441e-02, 1.3635255e-03],\n",
              "       [1.7135800e-10, 9.9990880e-01, 9.1196620e-05],\n",
              "       [8.1005353e-05, 7.8226691e-03, 9.9209630e-01],\n",
              "       [2.2700453e-06, 9.6784002e-01, 3.2157719e-02],\n",
              "       [2.7082482e-05, 1.2318547e-03, 9.9874109e-01],\n",
              "       [9.9608563e-03, 9.8992926e-01, 1.0983923e-04],\n",
              "       [2.3880517e-05, 7.0635426e-05, 9.9990547e-01],\n",
              "       [5.5661042e-07, 3.5280283e-03, 9.9647141e-01],\n",
              "       [2.8729199e-09, 1.3984475e-04, 9.9986017e-01],\n",
              "       [9.9735475e-01, 5.8551494e-05, 2.5868013e-03],\n",
              "       [6.6277750e-10, 9.9998164e-01, 1.8379420e-05],\n",
              "       [9.1756934e-01, 8.1640199e-02, 7.9044478e-04],\n",
              "       [1.2900993e-04, 4.7547896e-03, 9.9511623e-01],\n",
              "       [1.9791727e-03, 9.7350127e-01, 2.4519572e-02],\n",
              "       [1.2330971e-04, 5.5707218e-03, 9.9430591e-01],\n",
              "       [9.9839503e-01, 1.4100345e-03, 1.9496128e-04],\n",
              "       [2.3004503e-05, 9.9989557e-01, 8.1445811e-05],\n",
              "       [4.7373504e-08, 8.2836050e-05, 9.9991715e-01],\n",
              "       [2.3139191e-05, 9.9533206e-01, 4.6448065e-03],\n",
              "       [3.6184835e-09, 9.9889934e-01, 1.1006970e-03],\n",
              "       [9.9414080e-01, 7.7108993e-08, 5.8591128e-03]], dtype=float32)"
            ]
          },
          "metadata": {
            "tags": []
          },
          "execution_count": 22
        }
      ]
    },
    {
      "cell_type": "code",
      "metadata": {
        "id": "BXZaFSH4rTmK",
        "colab_type": "code",
        "colab": {}
      },
      "source": [
        "import numpy as np\n",
        "y_pred = np.argmax(y_pred, axis=1)"
      ],
      "execution_count": 26,
      "outputs": []
    },
    {
      "cell_type": "code",
      "metadata": {
        "id": "lCn72-jarl-4",
        "colab_type": "code",
        "colab": {
          "base_uri": "https://localhost:8080/",
          "height": 119
        },
        "outputId": "fc744d24-870c-4322-aca7-c4034645b178"
      },
      "source": [
        "y_pred"
      ],
      "execution_count": 27,
      "outputs": [
        {
          "output_type": "execute_result",
          "data": {
            "text/plain": [
              "array([2, 0, 1, 2, 1, 0, 2, 2, 0, 1, 1, 0, 2, 1, 0, 0, 0, 1, 0, 0, 0, 0,\n",
              "       1, 1, 0, 1, 2, 0, 2, 0, 0, 0, 0, 1, 2, 0, 1, 0, 2, 1, 2, 1, 1, 0,\n",
              "       1, 2, 1, 2, 1, 2, 2, 2, 0, 1, 0, 2, 1, 2, 0, 1, 2, 1, 1, 0, 0, 1,\n",
              "       0, 1, 1, 2, 0, 2, 0, 0, 0, 0, 2, 0, 0, 1, 1, 0, 0, 0, 2, 2, 1, 2,\n",
              "       2, 1, 2, 2, 2, 1, 1, 2, 1, 1, 1, 1, 2, 0, 2, 1, 2, 2, 2, 2, 1, 0,\n",
              "       1, 1, 0, 2, 0, 2, 2, 1, 2])"
            ]
          },
          "metadata": {
            "tags": []
          },
          "execution_count": 27
        }
      ]
    },
    {
      "cell_type": "code",
      "metadata": {
        "id": "PCVdU0zkrtRK",
        "colab_type": "code",
        "colab": {}
      },
      "source": [
        ""
      ],
      "execution_count": null,
      "outputs": []
    }
  ]
}
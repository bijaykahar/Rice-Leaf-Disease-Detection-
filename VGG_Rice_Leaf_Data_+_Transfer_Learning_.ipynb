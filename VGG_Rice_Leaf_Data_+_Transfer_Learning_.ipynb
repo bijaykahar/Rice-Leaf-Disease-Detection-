{
  "nbformat": 4,
  "nbformat_minor": 0,
  "metadata": {
    "colab": {
      "name": "VGG_Rice Leaf Data + Transfer Learning .ipynb",
      "provenance": [],
      "mount_file_id": "1eftR7quTKF1VrRfTLryZNlEYeJYTSbFw",
      "authorship_tag": "ABX9TyMApRDyvdjTSsmeEzFDWZk8",
      "include_colab_link": true
    },
    "kernelspec": {
      "name": "python3",
      "display_name": "Python 3"
    },
    "accelerator": "GPU"
  },
  "cells": [
    {
      "cell_type": "markdown",
      "metadata": {
        "id": "view-in-github",
        "colab_type": "text"
      },
      "source": [
        "<a href=\"https://colab.research.google.com/github/bijaykahar/Rice-Leaf-Disease-Detection-/blob/master/VGG_Rice_Leaf_Data_%2B_Transfer_Learning_.ipynb\" target=\"_parent\"><img src=\"https://colab.research.google.com/assets/colab-badge.svg\" alt=\"Open In Colab\"/></a>"
      ]
    },
    {
      "cell_type": "code",
      "metadata": {
        "id": "YArNQjn_UvkI",
        "colab_type": "code",
        "colab": {
          "base_uri": "https://localhost:8080/",
          "height": 34
        },
        "outputId": "c724661b-f72f-497b-d41c-f2aa41289ca5"
      },
      "source": [
        "from google.colab import drive\n",
        "drive.mount('/gdrive')"
      ],
      "execution_count": 1,
      "outputs": [
        {
          "output_type": "stream",
          "text": [
            "Mounted at /gdrive\n"
          ],
          "name": "stdout"
        }
      ]
    },
    {
      "cell_type": "code",
      "metadata": {
        "id": "OGrXL66GVf_2",
        "colab_type": "code",
        "colab": {
          "base_uri": "https://localhost:8080/",
          "height": 34
        },
        "outputId": "bcdbb348-42eb-4f11-f098-25218338566f"
      },
      "source": [
        "import os \n",
        "#after Image Augmentation the 40 images becomes 851 images \n",
        "print(len(os.listdir('/content/drive/My Drive/RiceLeafData/Train/Bacterial leaf blight')))"
      ],
      "execution_count": 1,
      "outputs": [
        {
          "output_type": "stream",
          "text": [
            "833\n"
          ],
          "name": "stdout"
        }
      ]
    },
    {
      "cell_type": "code",
      "metadata": {
        "id": "hGlAC2LDVv7x",
        "colab_type": "code",
        "colab": {}
      },
      "source": [
        "from tensorflow.keras.layers import Input, Lambda, Dense, Flatten\n",
        "from tensorflow.keras.models import Model\n",
        "from tensorflow.keras.applications.vgg16 import VGG16\n",
        "from tensorflow.keras.applications.vgg19 import VGG19\n",
        "from tensorflow.keras.preprocessing import image\n",
        "from tensorflow.keras.preprocessing.image import ImageDataGenerator,load_img\n",
        "from tensorflow.keras.models import Sequential\n",
        "import numpy as np\n",
        "from glob import glob\n",
        "import matplotlib.pyplot as plt"
      ],
      "execution_count": 2,
      "outputs": []
    },
    {
      "cell_type": "code",
      "metadata": {
        "id": "a2LXljm2WyFZ",
        "colab_type": "code",
        "colab": {}
      },
      "source": [
        "IMAGE_SIZE = [224, 224]\n",
        "\n",
        "train_path = '/content/drive/My Drive/RiceLeafData/Train'\n",
        "valid_path = '/content/drive/My Drive/RiceLeafData/Test'"
      ],
      "execution_count": 3,
      "outputs": []
    },
    {
      "cell_type": "code",
      "metadata": {
        "id": "QIKAJ6WMXVVW",
        "colab_type": "code",
        "colab": {
          "base_uri": "https://localhost:8080/",
          "height": 71
        },
        "outputId": "d795ddbf-9161-452c-f744-9a071a3b924a"
      },
      "source": [
        "vgg16 = VGG16(input_shape=IMAGE_SIZE + [3], weights='imagenet', include_top=False)"
      ],
      "execution_count": 4,
      "outputs": [
        {
          "output_type": "stream",
          "text": [
            "Downloading data from https://storage.googleapis.com/tensorflow/keras-applications/vgg16/vgg16_weights_tf_dim_ordering_tf_kernels_notop.h5\n",
            "58892288/58889256 [==============================] - 0s 0us/step\n"
          ],
          "name": "stdout"
        }
      ]
    },
    {
      "cell_type": "code",
      "metadata": {
        "id": "U3QCXF3pXX2o",
        "colab_type": "code",
        "colab": {}
      },
      "source": [
        "# don't train existing weights\n",
        "for layer in vgg16.layers:\n",
        "    layer.trainable = False"
      ],
      "execution_count": 5,
      "outputs": []
    },
    {
      "cell_type": "code",
      "metadata": {
        "id": "0GphmJgOXiSU",
        "colab_type": "code",
        "colab": {}
      },
      "source": [
        "# useful for getting number of output classes\n",
        "folders = glob('/content/drive/My Drive/RiceLeafData/Train/*')"
      ],
      "execution_count": 6,
      "outputs": []
    },
    {
      "cell_type": "code",
      "metadata": {
        "id": "UMwLJ865XrtO",
        "colab_type": "code",
        "colab": {
          "base_uri": "https://localhost:8080/",
          "height": 68
        },
        "outputId": "ebf909b4-9051-42b2-e597-66dca4f59b19"
      },
      "source": [
        "folders"
      ],
      "execution_count": 7,
      "outputs": [
        {
          "output_type": "execute_result",
          "data": {
            "text/plain": [
              "['/content/drive/My Drive/RiceLeafData/Train/Bacterial leaf blight',\n",
              " '/content/drive/My Drive/RiceLeafData/Train/Brown spot',\n",
              " '/content/drive/My Drive/RiceLeafData/Train/Leaf smut']"
            ]
          },
          "metadata": {
            "tags": []
          },
          "execution_count": 7
        }
      ]
    },
    {
      "cell_type": "code",
      "metadata": {
        "id": "N_O-Nrf_X0q1",
        "colab_type": "code",
        "colab": {
          "base_uri": "https://localhost:8080/",
          "height": 34
        },
        "outputId": "0d1ae62d-18fd-4033-cf27-f0f0cfd6cb1f"
      },
      "source": [
        "len(folders)"
      ],
      "execution_count": 8,
      "outputs": [
        {
          "output_type": "execute_result",
          "data": {
            "text/plain": [
              "3"
            ]
          },
          "metadata": {
            "tags": []
          },
          "execution_count": 8
        }
      ]
    },
    {
      "cell_type": "code",
      "metadata": {
        "id": "270trI-dXs5y",
        "colab_type": "code",
        "colab": {}
      },
      "source": [
        "# our layers - you can add more if you want\n",
        "x = Flatten()(vgg16.output)"
      ],
      "execution_count": 9,
      "outputs": []
    },
    {
      "cell_type": "code",
      "metadata": {
        "id": "TECa9N_eXxM4",
        "colab_type": "code",
        "colab": {}
      },
      "source": [
        "prediction = Dense(len(folders), activation='softmax')(x)\n",
        "\n",
        "# create a model object\n",
        "model = Model(inputs=vgg16.input, outputs=prediction)"
      ],
      "execution_count": 10,
      "outputs": []
    },
    {
      "cell_type": "code",
      "metadata": {
        "id": "TfEbY0yxyWYF",
        "colab_type": "code",
        "colab": {}
      },
      "source": [
        "model."
      ],
      "execution_count": null,
      "outputs": []
    },
    {
      "cell_type": "code",
      "metadata": {
        "id": "O5nxl2StX9Ep",
        "colab_type": "code",
        "colab": {
          "base_uri": "https://localhost:8080/",
          "height": 867
        },
        "outputId": "71054cdf-e7ee-4713-fec9-7e92194c23a7"
      },
      "source": [
        "# view the structure of the model\n",
        "model.summary()"
      ],
      "execution_count": 11,
      "outputs": [
        {
          "output_type": "stream",
          "text": [
            "Model: \"functional_1\"\n",
            "_________________________________________________________________\n",
            "Layer (type)                 Output Shape              Param #   \n",
            "=================================================================\n",
            "input_1 (InputLayer)         [(None, 224, 224, 3)]     0         \n",
            "_________________________________________________________________\n",
            "block1_conv1 (Conv2D)        (None, 224, 224, 64)      1792      \n",
            "_________________________________________________________________\n",
            "block1_conv2 (Conv2D)        (None, 224, 224, 64)      36928     \n",
            "_________________________________________________________________\n",
            "block1_pool (MaxPooling2D)   (None, 112, 112, 64)      0         \n",
            "_________________________________________________________________\n",
            "block2_conv1 (Conv2D)        (None, 112, 112, 128)     73856     \n",
            "_________________________________________________________________\n",
            "block2_conv2 (Conv2D)        (None, 112, 112, 128)     147584    \n",
            "_________________________________________________________________\n",
            "block2_pool (MaxPooling2D)   (None, 56, 56, 128)       0         \n",
            "_________________________________________________________________\n",
            "block3_conv1 (Conv2D)        (None, 56, 56, 256)       295168    \n",
            "_________________________________________________________________\n",
            "block3_conv2 (Conv2D)        (None, 56, 56, 256)       590080    \n",
            "_________________________________________________________________\n",
            "block3_conv3 (Conv2D)        (None, 56, 56, 256)       590080    \n",
            "_________________________________________________________________\n",
            "block3_pool (MaxPooling2D)   (None, 28, 28, 256)       0         \n",
            "_________________________________________________________________\n",
            "block4_conv1 (Conv2D)        (None, 28, 28, 512)       1180160   \n",
            "_________________________________________________________________\n",
            "block4_conv2 (Conv2D)        (None, 28, 28, 512)       2359808   \n",
            "_________________________________________________________________\n",
            "block4_conv3 (Conv2D)        (None, 28, 28, 512)       2359808   \n",
            "_________________________________________________________________\n",
            "block4_pool (MaxPooling2D)   (None, 14, 14, 512)       0         \n",
            "_________________________________________________________________\n",
            "block5_conv1 (Conv2D)        (None, 14, 14, 512)       2359808   \n",
            "_________________________________________________________________\n",
            "block5_conv2 (Conv2D)        (None, 14, 14, 512)       2359808   \n",
            "_________________________________________________________________\n",
            "block5_conv3 (Conv2D)        (None, 14, 14, 512)       2359808   \n",
            "_________________________________________________________________\n",
            "block5_pool (MaxPooling2D)   (None, 7, 7, 512)         0         \n",
            "_________________________________________________________________\n",
            "flatten (Flatten)            (None, 25088)             0         \n",
            "_________________________________________________________________\n",
            "dense (Dense)                (None, 3)                 75267     \n",
            "=================================================================\n",
            "Total params: 14,789,955\n",
            "Trainable params: 75,267\n",
            "Non-trainable params: 14,714,688\n",
            "_________________________________________________________________\n"
          ],
          "name": "stdout"
        }
      ]
    },
    {
      "cell_type": "code",
      "metadata": {
        "id": "CkaFam0DYCqj",
        "colab_type": "code",
        "colab": {}
      },
      "source": [
        "# tell the model what cost and optimization method to use\n",
        "model.compile(\n",
        "  loss='categorical_crossentropy',\n",
        "  optimizer='adam',\n",
        "  metrics=['accuracy']\n",
        ")"
      ],
      "execution_count": 12,
      "outputs": []
    },
    {
      "cell_type": "code",
      "metadata": {
        "id": "Z972US-hYGox",
        "colab_type": "code",
        "colab": {}
      },
      "source": [
        "# Use the Image Data Generator to import the images from the dataset\n",
        "from tensorflow.keras.preprocessing.image import ImageDataGenerator\n",
        "\n",
        "train_datagen = ImageDataGenerator(rescale = 1./255,\n",
        "                                   shear_range = 0.2,\n",
        "                                   zoom_range = 0.2,\n",
        "                                   horizontal_flip = True)\n",
        "\n",
        "test_datagen = ImageDataGenerator(rescale = 1./255)"
      ],
      "execution_count": 13,
      "outputs": []
    },
    {
      "cell_type": "code",
      "metadata": {
        "id": "vWr51LSaYIFZ",
        "colab_type": "code",
        "colab": {
          "base_uri": "https://localhost:8080/",
          "height": 34
        },
        "outputId": "3467c0ee-6b4c-4086-c7b9-9f668f7f0bcf"
      },
      "source": [
        "# Make sure you provide the same target size as initialied for the image size\n",
        "training_set = train_datagen.flow_from_directory(train_path,\n",
        "                                                 target_size = (224, 224),\n",
        "                                                 batch_size = 32,\n",
        "                                                 class_mode = 'categorical')"
      ],
      "execution_count": 14,
      "outputs": [
        {
          "output_type": "stream",
          "text": [
            "Found 2517 images belonging to 3 classes.\n"
          ],
          "name": "stdout"
        }
      ]
    },
    {
      "cell_type": "code",
      "metadata": {
        "id": "HsBbIWnAYWeY",
        "colab_type": "code",
        "colab": {
          "base_uri": "https://localhost:8080/",
          "height": 34
        },
        "outputId": "09665668-2781-4bd3-dc6d-1b63a2a336f2"
      },
      "source": [
        "\n",
        "test_set = test_datagen.flow_from_directory(valid_path,\n",
        "                                            target_size = (224, 224),\n",
        "                                            batch_size = 32,\n",
        "                                            class_mode = 'categorical')"
      ],
      "execution_count": 15,
      "outputs": [
        {
          "output_type": "stream",
          "text": [
            "Found 119 images belonging to 3 classes.\n"
          ],
          "name": "stdout"
        }
      ]
    },
    {
      "cell_type": "code",
      "metadata": {
        "id": "y1yF55_DYkrI",
        "colab_type": "code",
        "colab": {
          "base_uri": "https://localhost:8080/",
          "height": 768
        },
        "outputId": "d56d9035-1620-448b-a2ec-fc44275ca61a"
      },
      "source": [
        "# fit the model\n",
        "# Run the cell. It will take some time to execute\n",
        "r = model.fit_generator(\n",
        "  training_set,\n",
        "  validation_data=test_set,\n",
        "  epochs=20,\n",
        "  steps_per_epoch=len(training_set),\n",
        "  validation_steps=len(test_set)\n",
        ")"
      ],
      "execution_count": 16,
      "outputs": [
        {
          "output_type": "stream",
          "text": [
            "WARNING:tensorflow:From <ipython-input-16-2d02736eff38>:8: Model.fit_generator (from tensorflow.python.keras.engine.training) is deprecated and will be removed in a future version.\n",
            "Instructions for updating:\n",
            "Please use Model.fit, which supports generators.\n",
            "Epoch 1/20\n",
            "79/79 [==============================] - 1951s 25s/step - loss: 0.7598 - accuracy: 0.6806 - val_loss: 0.3131 - val_accuracy: 0.8739\n",
            "Epoch 2/20\n",
            "79/79 [==============================] - 103s 1s/step - loss: 0.3653 - accuracy: 0.8641 - val_loss: 0.1978 - val_accuracy: 0.9412\n",
            "Epoch 3/20\n",
            "79/79 [==============================] - 102s 1s/step - loss: 0.3030 - accuracy: 0.8888 - val_loss: 0.0951 - val_accuracy: 0.9832\n",
            "Epoch 4/20\n",
            "79/79 [==============================] - 102s 1s/step - loss: 0.2342 - accuracy: 0.9158 - val_loss: 0.0666 - val_accuracy: 1.0000\n",
            "Epoch 5/20\n",
            "79/79 [==============================] - 102s 1s/step - loss: 0.1861 - accuracy: 0.9472 - val_loss: 0.0664 - val_accuracy: 0.9832\n",
            "Epoch 6/20\n",
            "79/79 [==============================] - 102s 1s/step - loss: 0.1582 - accuracy: 0.9515 - val_loss: 0.0474 - val_accuracy: 0.9916\n",
            "Epoch 7/20\n",
            "79/79 [==============================] - 103s 1s/step - loss: 0.1425 - accuracy: 0.9658 - val_loss: 0.0418 - val_accuracy: 1.0000\n",
            "Epoch 8/20\n",
            "79/79 [==============================] - 102s 1s/step - loss: 0.1264 - accuracy: 0.9678 - val_loss: 0.0496 - val_accuracy: 0.9916\n",
            "Epoch 9/20\n",
            "79/79 [==============================] - 102s 1s/step - loss: 0.1047 - accuracy: 0.9746 - val_loss: 0.0488 - val_accuracy: 0.9916\n",
            "Epoch 10/20\n",
            "79/79 [==============================] - 102s 1s/step - loss: 0.0972 - accuracy: 0.9758 - val_loss: 0.0229 - val_accuracy: 1.0000\n",
            "Epoch 11/20\n",
            "79/79 [==============================] - 102s 1s/step - loss: 0.1059 - accuracy: 0.9702 - val_loss: 0.0927 - val_accuracy: 0.9412\n",
            "Epoch 12/20\n",
            "79/79 [==============================] - 101s 1s/step - loss: 0.0870 - accuracy: 0.9797 - val_loss: 0.0161 - val_accuracy: 1.0000\n",
            "Epoch 13/20\n",
            "79/79 [==============================] - 101s 1s/step - loss: 0.0897 - accuracy: 0.9762 - val_loss: 0.0147 - val_accuracy: 1.0000\n",
            "Epoch 14/20\n",
            "79/79 [==============================] - 101s 1s/step - loss: 0.0801 - accuracy: 0.9774 - val_loss: 0.0158 - val_accuracy: 1.0000\n",
            "Epoch 15/20\n",
            "79/79 [==============================] - 102s 1s/step - loss: 0.0758 - accuracy: 0.9809 - val_loss: 0.0219 - val_accuracy: 1.0000\n",
            "Epoch 16/20\n",
            "79/79 [==============================] - 101s 1s/step - loss: 0.0792 - accuracy: 0.9774 - val_loss: 0.0087 - val_accuracy: 1.0000\n",
            "Epoch 17/20\n",
            "79/79 [==============================] - 100s 1s/step - loss: 0.0609 - accuracy: 0.9849 - val_loss: 0.0233 - val_accuracy: 1.0000\n",
            "Epoch 18/20\n",
            "79/79 [==============================] - 100s 1s/step - loss: 0.0717 - accuracy: 0.9778 - val_loss: 0.0089 - val_accuracy: 1.0000\n",
            "Epoch 19/20\n",
            "79/79 [==============================] - 100s 1s/step - loss: 0.0624 - accuracy: 0.9849 - val_loss: 0.0087 - val_accuracy: 1.0000\n",
            "Epoch 20/20\n",
            "79/79 [==============================] - 99s 1s/step - loss: 0.0548 - accuracy: 0.9869 - val_loss: 0.0183 - val_accuracy: 1.0000\n"
          ],
          "name": "stdout"
        }
      ]
    },
    {
      "cell_type": "code",
      "metadata": {
        "id": "6PR9uSIWZ7no",
        "colab_type": "code",
        "colab": {
          "base_uri": "https://localhost:8080/",
          "height": 530
        },
        "outputId": "2b774ed5-b289-4aa9-974c-6f02142034fb"
      },
      "source": [
        "# plot the loss\n",
        "plt.plot(r.history['loss'], label='train loss')\n",
        "plt.plot(r.history['val_loss'], label='val loss')\n",
        "plt.legend()\n",
        "plt.show()\n",
        "plt.savefig('LossVal_loss')\n",
        "\n",
        "# plot the accuracy\n",
        "plt.plot(r.history['accuracy'], label='train acc')\n",
        "plt.plot(r.history['val_accuracy'], label='val acc')\n",
        "plt.legend()\n",
        "plt.show()\n",
        "plt.savefig('AccVal_acc')"
      ],
      "execution_count": 17,
      "outputs": [
        {
          "output_type": "display_data",
          "data": {
            "image/png": "[encoded data removed]",
            "text/plain": [
              "<Figure size 432x288 with 1 Axes>"
            ]
          },
          "metadata": {
            "tags": [],
            "needs_background": "light"
          }
        },
        {
          "output_type": "display_data",
          "data": {
            "image/png": "[encoded data removed]",
            "text/plain": [
              "<Figure size 432x288 with 1 Axes>"
            ]
          },
          "metadata": {
            "tags": [],
            "needs_background": "light"
          }
        },
        {
          "output_type": "display_data",
          "data": {
            "text/plain": [
              "<Figure size 432x288 with 0 Axes>"
            ]
          },
          "metadata": {
            "tags": []
          }
        }
      ]
    },
    {
      "cell_type": "code",
      "metadata": {
        "id": "6XLZVX_Iaewn",
        "colab_type": "code",
        "colab": {}
      },
      "source": [
        "# save it as a h5 file\n",
        "\n",
        "from tensorflow.keras.models import load_model\n",
        "model.save('model_vgg16_rice_leaf.h5')"
      ],
      "execution_count": 18,
      "outputs": []
    },
    {
      "cell_type": "code",
      "metadata": {
        "id": "cn60IsWNrQ2O",
        "colab_type": "code",
        "colab": {}
      },
      "source": [
        "y_pred = model.predict(test_set)"
      ],
      "execution_count": 25,
      "outputs": []
    },
    {
      "cell_type": "code",
      "metadata": {
        "id": "mCu71RB4rRfJ",
        "colab_type": "code",
        "colab": {
          "base_uri": "https://localhost:8080/",
          "height": 561
        },
        "outputId": "11f7b0e1-4cd6-49e3-a316-02f74ce1342e"
      },
      "source": [
        "y_pred"
      ],
      "execution_count": 22,
      "outputs": [
        {
          "output_type": "execute_result",
          "data": {
            "text/plain": [
              "array([[7.3176354e-01, 3.9324291e-02, 2.2891214e-01],\n",
              "       [6.8812224e-04, 9.9891114e-01, 4.0074167e-04],\n",
              "       [1.9083628e-09, 1.4364932e-06, 9.9999857e-01],\n",
              "       [9.6718621e-01, 3.1501538e-04, 3.2498863e-02],\n",
              "       [1.7195727e-07, 9.9991167e-01, 8.8153727e-05],\n",
              "       [9.9346280e-01, 6.4956639e-03, 4.1555515e-05],\n",
              "       [9.7036746e-06, 6.9071520e-03, 9.9308312e-01],\n",
              "       [1.9101240e-03, 9.9806029e-01, 2.9652947e-05],\n",
              "       [3.9908759e-06, 2.8241501e-04, 9.9971360e-01],\n",
              "       [1.0935843e-04, 9.9943405e-01, 4.5660144e-04],\n",
              "       [6.6883907e-09, 9.9912554e-01, 8.7452854e-04],\n",
              "       [9.4330198e-01, 5.5334441e-02, 1.3635255e-03],\n",
              "       [1.7135800e-10, 9.9990880e-01, 9.1196620e-05],\n",
              "       [8.1005353e-05, 7.8226691e-03, 9.9209630e-01],\n",
              "       [2.2700453e-06, 9.6784002e-01, 3.2157719e-02],\n",
              "       [2.7082482e-05, 1.2318547e-03, 9.9874109e-01],\n",
              "       [9.9608563e-03, 9.8992926e-01, 1.0983923e-04],\n",
              "       [2.3880517e-05, 7.0635426e-05, 9.9990547e-01],\n",
              "       [5.5661042e-07, 3.5280283e-03, 9.9647141e-01],\n",
              "       [2.8729199e-09, 1.3984475e-04, 9.9986017e-01],\n",
              "       [9.9735475e-01, 5.8551494e-05, 2.5868013e-03],\n",
              "       [6.6277750e-10, 9.9998164e-01, 1.8379420e-05],\n",
              "       [9.1756934e-01, 8.1640199e-02, 7.9044478e-04],\n",
              "       [1.2900993e-04, 4.7547896e-03, 9.9511623e-01],\n",
              "       [1.9791727e-03, 9.7350127e-01, 2.4519572e-02],\n",
              "       [1.2330971e-04, 5.5707218e-03, 9.9430591e-01],\n",
              "       [9.9839503e-01, 1.4100345e-03, 1.9496128e-04],\n",
              "       [2.3004503e-05, 9.9989557e-01, 8.1445811e-05],\n",
              "       [4.7373504e-08, 8.2836050e-05, 9.9991715e-01],\n",
              "       [2.3139191e-05, 9.9533206e-01, 4.6448065e-03],\n",
              "       [3.6184835e-09, 9.9889934e-01, 1.1006970e-03],\n",
              "       [9.9414080e-01, 7.7108993e-08, 5.8591128e-03]], dtype=float32)"
            ]
          },
          "metadata": {
            "tags": []
          },
          "execution_count": 22
        }
      ]
    },
    {
      "cell_type": "code",
      "metadata": {
        "id": "BXZaFSH4rTmK",
        "colab_type": "code",
        "colab": {}
      },
      "source": [
        "import numpy as np\n",
        "y_pred = np.argmax(y_pred, axis=1)"
      ],
      "execution_count": 26,
      "outputs": []
    },
    {
      "cell_type": "code",
      "metadata": {
        "id": "lCn72-jarl-4",
        "colab_type": "code",
        "colab": {
          "base_uri": "https://localhost:8080/",
          "height": 119
        },
        "outputId": "fc744d24-870c-4322-aca7-c4034645b178"
      },
      "source": [
        "y_pred"
      ],
      "execution_count": 27,
      "outputs": [
        {
          "output_type": "execute_result",
          "data": {
            "text/plain": [
              "array([2, 0, 1, 2, 1, 0, 2, 2, 0, 1, 1, 0, 2, 1, 0, 0, 0, 1, 0, 0, 0, 0,\n",
              "       1, 1, 0, 1, 2, 0, 2, 0, 0, 0, 0, 1, 2, 0, 1, 0, 2, 1, 2, 1, 1, 0,\n",
              "       1, 2, 1, 2, 1, 2, 2, 2, 0, 1, 0, 2, 1, 2, 0, 1, 2, 1, 1, 0, 0, 1,\n",
              "       0, 1, 1, 2, 0, 2, 0, 0, 0, 0, 2, 0, 0, 1, 1, 0, 0, 0, 2, 2, 1, 2,\n",
              "       2, 1, 2, 2, 2, 1, 1, 2, 1, 1, 1, 1, 2, 0, 2, 1, 2, 2, 2, 2, 1, 0,\n",
              "       1, 1, 0, 2, 0, 2, 2, 1, 2])"
            ]
          },
          "metadata": {
            "tags": []
          },
          "execution_count": 27
        }
      ]
    },
    {
      "cell_type": "code",
      "metadata": {
        "id": "PCVdU0zkrtRK",
        "colab_type": "code",
        "colab": {}
      },
      "source": [
        ""
      ],
      "execution_count": null,
      "outputs": []
    }
  ]
}